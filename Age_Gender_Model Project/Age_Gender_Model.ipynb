{
  "cells": [
    {
      "cell_type": "code",
      "execution_count": null,
      "metadata": {
        "id": "5QgYRRU4Obh4"
      },
      "outputs": [],
      "source": [
        "import numpy as np \n",
        "import pandas as pd \n",
        "import matplotlib.pyplot as plt \n",
        "import seaborn as sns\n",
        "import cv2 \n",
        "from PIL import Image\n",
        "import tensorflow as tf \n",
        "from keras.models import Sequential\n",
        "from keras.layers import Conv2D, MaxPooling2D, Dropout, Flatten, Dense, Dropout, LayerNormalization\n",
        "from keras_preprocessing.image import img_to_array, load_img\n",
        "from sklearn.model_selection import train_test_split"
      ]
    },
    {
      "cell_type": "code",
      "execution_count": 3,
      "metadata": {
        "colab": {
          "base_uri": "https://localhost:8080/"
        },
        "id": "aNt-SDKmOdV8",
        "outputId": "3b18b6b3-f2ed-4a0d-a3d7-c67d263a6fbb"
      },
      "outputs": [
        {
          "name": "stdout",
          "output_type": "stream",
          "text": [
            "Mounted at /content/gdrive\n"
          ]
        }
      ],
      "source": [
        "from google.colab import drive \n",
        "drive.mount(\"/content/gdrive\")"
      ]
    },
    {
      "cell_type": "markdown",
      "metadata": {
        "id": "cXIVkSEcObh8"
      },
      "source": [
        "Read Fold Data from dataset. Files how image labels"
      ]
    },
    {
      "cell_type": "code",
      "execution_count": null,
      "metadata": {
        "id": "nCyvCF6UObh9"
      },
      "outputs": [],
      "source": [
        "fold0 = pd.read_csv(\"/content/gdrive/MyDrive/projectDataAdience/fold_0_data.txt\", sep = \"\\t\")\n",
        "fold1 = pd.read_csv(\"/content/gdrive/MyDrive/projectDataAdience/fold_1_data.txt\", sep = \"\\t\")\n",
        "fold2 = pd.read_csv(\"/content/gdrive/MyDrive/projectDataAdience/fold_2_data.txt\", sep = \"\\t\")\n",
        "fold3 = pd.read_csv(\"/content/gdrive/MyDrive/projectDataAdience/fold_3_data.txt\", sep = \"\\t\")\n",
        "fold4 = pd.read_csv(\"/content/gdrive/MyDrive/projectDataAdience/fold_4_data.txt\", sep = \"\\t\")\n",
        "\n",
        "#combine all fold data\n",
        "fold_data = pd.concat([fold0, fold1, fold2, fold3, fold4], ignore_index=True)"
      ]
    },
    {
      "cell_type": "markdown",
      "metadata": {
        "id": "QhcOguqcObiA"
      },
      "source": [
        "Preprocess data to only accept data that is necessary and clean for our use "
      ]
    },
    {
      "cell_type": "code",
      "execution_count": null,
      "metadata": {
        "id": "tFHtn30gObiB"
      },
      "outputs": [],
      "source": [
        "#save all images from dataset so they are accessible \n",
        "data = fold_data[['age', 'gender', 'x', 'y', 'dx', 'dy']].copy()\n",
        "img_path = []\n",
        "for row in fold_data.iterrows():\n",
        "    path = \"/content/gdrive/MyDrive/projectDataAdience/faces/\"+row[1].user_id+\"/coarse_tilt_aligned_face.\"+str(row[1].face_id)+\".\"+row[1].original_image\n",
        "    img_path.append(path)\n",
        "\n",
        "data['img_path'] = img_path\n"
      ]
    },
    {
      "cell_type": "markdown",
      "metadata": {
        "id": "LfoL7TbOObiC"
      },
      "source": [
        "Map age data to an age group. This makes it easier to predict age ranges as external factors can effect how old someone looks"
      ]
    },
    {
      "cell_type": "code",
      "execution_count": null,
      "metadata": {
        "id": "hk1kPtIhObiC"
      },
      "outputs": [],
      "source": [
        "age_range = [('(0, 2)', '0-2'), ('2', '0-2'), ('3', '0-2'), ('(4, 6)', '4-6'), ('(8, 12)', '8-13'), ('13', '8-13'), ('22', '15-20'), ('(8, 23)','15-20'), ('23', '25-32'), ('(15, 20)', '15-20'), ('(25, 32)', '25-32'), ('(27, 32)', '25-32'), ('32', '25-32'), ('34', '25-32'), ('29', '25-32'), ('(38, 42)', '38-43'), ('35', '38-43'), ('36', '38-43'), ('42', '48-53'), ('45', '38-43'), ('(38, 43)', '38-43'), ('(38, 42)', '38-43'), ('(38, 48)', '48-53'), ('46', '48-53'), ('(48, 53)', '48-53'), ('55', '48-53'), ('56', '48-53'), ('(60, 100)', '60+'), ('57', '60+'), ('58', '60+')]\n",
        "age_dict = {each[0]: each[1] for each in age_range}\n",
        "drop_labels = []\n",
        "for index, each in enumerate(data.age):\n",
        "    if each == 'None':\n",
        "        drop_labels.append(index)\n",
        "    else:\n",
        "        data.age.loc[index] = age_dict[each]\n",
        "\n",
        "data = data.drop(labels=drop_labels, axis=0)\n",
        "data.age.value_counts(dropna=False)\n",
        "\n"
      ]
    },
    {
      "cell_type": "markdown",
      "metadata": {
        "id": "v016AgbIwYUz"
      },
      "source": [
        "Drop undefined gender elements"
      ]
    },
    {
      "cell_type": "code",
      "execution_count": null,
      "metadata": {
        "id": "AXiYAt6YObiD"
      },
      "outputs": [],
      "source": [
        "data = data.dropna()\n",
        "data_clean = data[data.gender != 'u'].copy()\n",
        "data_clean.info()"
      ]
    },
    {
      "cell_type": "markdown",
      "metadata": {
        "id": "17KNpMCDw1zN"
      },
      "source": [
        "Map cleaned data gender labels to 0 and 1.\n",
        "Map cleaned data age label from 0-7 across all age ranges."
      ]
    },
    {
      "cell_type": "code",
      "execution_count": null,
      "metadata": {
        "id": "BKmqCUpqObiE"
      },
      "outputs": [],
      "source": [
        "genders = {\n",
        "    'f': 0,\n",
        "    'm': 1\n",
        "}\n",
        "data_clean['gender'] = data_clean['gender'].apply(lambda g: genders[g])\n",
        "data_clean.head()"
      ]
    },
    {
      "cell_type": "code",
      "execution_count": null,
      "metadata": {
        "id": "_baYYG2VObiE"
      },
      "outputs": [],
      "source": [
        "ages = {\n",
        "    '0-2': 0,\n",
        "    '4-6': 1,\n",
        "    '8-13': 2,\n",
        "    '15-20': 3,\n",
        "    '25-32': 4,\n",
        "    '38-43': 5,\n",
        "    '48-53': 6,\n",
        "    '60+': 7\n",
        "}\n",
        "data_clean['age'] = data_clean['age'].apply(lambda age: ages[age])\n",
        "data_clean.head()"
      ]
    },
    {
      "cell_type": "markdown",
      "metadata": {
        "id": "8nnfAbVnObiF"
      },
      "source": [
        "Make training and test datasets and resize images in dataset \n",
        "Make split data for gender and age \n"
      ]
    },
    {
      "cell_type": "code",
      "execution_count": null,
      "metadata": {
        "id": "s876zaaiObiF"
      },
      "outputs": [],
      "source": [
        "X = data_clean[['img_path']]\n",
        "Y = data_clean[['gender']]\n",
        "training_imgs = []\n",
        "testing_imgs = []\n",
        "\n",
        "X_train, X_test, Y_train, Y_test = train_test_split(X, Y, test_size=0.3, random_state=42)\n",
        "\n",
        "for row in X_train.iterrows():\n",
        "    image = Image.open(row[1].img_path)\n",
        "    image = image.resize((227, 227))\n",
        "    trainData = np.asarray(image)\n",
        "    training_imgs.append(trainData)\n",
        "\n",
        "for row in X_test.iterrows():\n",
        "    image = Image.open(row[1].img_path)\n",
        "    image = image.resize((227, 227))\n",
        "    testData = np.asarray(image)\n",
        "    testing_imgs.append(testData)\n",
        "\n",
        "#convert to np array to pass through model\n",
        "training_imgs = np.asarray(training_imgs)\n",
        "testing_imgs = np.asarray(testing_imgs)"
      ]
    },
    {
      "cell_type": "code",
      "execution_count": null,
      "metadata": {
        "id": "qCPeeOSlObiG"
      },
      "outputs": [],
      "source": [
        "#same process as gender split, do with age data\n",
        "X_age = data_clean[['img_path']]\n",
        "Y_age = data_clean[['age']]\n",
        "training_imgs_age = []\n",
        "testing_imgs_age = []\n",
        "\n",
        "X_train_age, X_test_age, Y_train_age, Y_test_age = train_test_split(X_age, Y_age, test_size=0.3, random_state=42)\n",
        "\n",
        "for row in X_train_age.iterrows():\n",
        "    image = Image.open(row[1].img_path)\n",
        "    image = image.resize((227, 227))\n",
        "    tData = np.asarray(image)\n",
        "    training_imgs_age.append(tData)\n",
        "\n",
        "for row in X_test_age.iterrows():\n",
        "    image = Image.open(row[1].img_path)\n",
        "    image = image.resize((277, 277))\n",
        "    teData = np.asarray(image)\n",
        "    testing_imgs_age.append(teData)\n",
        "\n",
        "training_imgs_age = np.asarray(training_imgs_age)\n",
        "testing_imgs_age = np.asarray(testing_imgs_age)\n"
      ]
    },
    {
      "cell_type": "markdown",
      "metadata": {
        "id": "J4oBJHGjObiG"
      },
      "source": [
        "Gender Model definded with squential model"
      ]
    },
    {
      "cell_type": "code",
      "execution_count": null,
      "metadata": {
        "id": "_TxKqRyJObiG"
      },
      "outputs": [],
      "source": [
        "#make model with layers defined in Levi and Hassner paper\n",
        "model = Sequential()\n",
        "model.add(Conv2D(input_shape=(227, 227, 3), filters=96, kernel_size=(7, 7), strides=4, padding='valid', activation='relu'))\n",
        "model.add(MaxPooling2D(pool_size=(2, 2), strides=(2,2)))\n",
        "model.add(LayerNormalization())\n",
        "model.add(Conv2D(filters=256, kernel_size=(5, 5), strides=1, padding='same', activation='relu'))\n",
        "model.add(MaxPooling2D(pool_size=(2,2), strides=(2,2)))\n",
        "model.add(LayerNormalization())\n",
        "model.add(Conv2D(filters=256, kernel_size=(3,3), strides=1, padding='same', activation='relu'))\n",
        "model.add(MaxPooling2D(pool_size=(2,2), strides=(2,2)))\n",
        "model.add(LayerNormalization())\n",
        "model.add(Flatten())\n",
        "model.add(Dense(units=512, activation='relu'))\n",
        "model.add(Dropout(rate=0.25))\n",
        "model.add(Dense(units=512, activation='relu'))\n",
        "model.add(Dropout(rate=0.25))\n",
        "model.add(Dense(units=2, activation='relu'))\n",
        "callback = tf.keras.callbacks.EarlyStopping(monitor='loss', patience=3)\n",
        "model.compile(loss=[\"binary_crossentropy\", \"mae\"], optimizer=\"Adam\", metrics=[\"accuracy\"])\n",
        "model.summary()"
      ]
    },
    {
      "cell_type": "markdown",
      "metadata": {
        "id": "lWZa_q4MObiH"
      },
      "source": [
        "Train gender model "
      ]
    },
    {
      "cell_type": "code",
      "execution_count": null,
      "metadata": {
        "colab": {
          "background_save": true,
          "base_uri": "https://localhost:8080/"
        },
        "id": "xbmyP4wZObiH",
        "outputId": "b64d8df8-a396-4864-c84b-633a61cbe2e1"
      },
      "outputs": [],
      "source": [
        "History = model.fit(training_imgs, Y_train, batch_size=32, epochs=15, validation_data=(testing_imgs, Y_test), callbacks=[callback])\n",
        "\n",
        "model.save('gender_model_25e.h5')"
      ]
    },
    {
      "cell_type": "markdown",
      "metadata": {
        "id": "xJHWyNcNRt48"
      },
      "source": [
        "Test the model\n"
      ]
    },
    {
      "cell_type": "code",
      "execution_count": null,
      "metadata": {
        "colab": {
          "base_uri": "https://localhost:8080/"
        },
        "id": "jPftVLrzRvLX",
        "outputId": "1c2d531b-86da-430b-a2fd-77a8bd9a3e70"
      },
      "outputs": [],
      "source": [
        "test_loss, test_acc = model.evaluate(testing_imgs, Y_test, verbose=2)\n",
        "print(test_acc)"
      ]
    },
    {
      "cell_type": "markdown",
      "metadata": {
        "id": "nnFqoYyZSB31"
      },
      "source": [
        "Create and train age model"
      ]
    },
    {
      "cell_type": "code",
      "execution_count": null,
      "metadata": {
        "id": "VhYF2C08SHqJ"
      },
      "outputs": [],
      "source": [
        "age_model = Sequential()\n",
        "age_model.add(Conv2D(input_shape=(227, 227, 3), filters=96, kernel_size=(7, 7), strides=4, padding='valid', activation='relu'))\n",
        "age_model.add(MaxPooling2D(pool_size=(2, 2), strides=(2,2)))\n",
        "age_model.add(LayerNormalization())\n",
        "age_model.add(Conv2D(filters=256, kernel_size=(5, 5), strides=1, padding='same', activation='relu'))\n",
        "age_model.add(MaxPooling2D(pool_size=(2,2), strides=(2,2)))\n",
        "age_model.add(LayerNormalization())\n",
        "age_model.add(Conv2D(filters=256, kernel_size=(3,3), strides=1, padding='same', activation='relu'))\n",
        "age_model.add(MaxPooling2D(pool_size=(2,2), strides=(2,2)))\n",
        "age_model.add(LayerNormalization())\n",
        "age_model.add(Flatten())\n",
        "age_model.add(Dense(units=512, activation='relu'))\n",
        "age_model.add(Dropout(rate=0.25))\n",
        "age_model.add(Dense(units=512, activation='relu'))\n",
        "age_model.add(Dropout(rate=0.25))\n",
        "age_model.add(Dense(units=2, activation='relu'))\n",
        "callback = tf.keras.callbacks.EarlyStopping(monitor='loss', patience=3)\n",
        "age_model.compile(loss=[\"binary_crossentropy\", \"mae\"], optimizer=\"Adam\", metrics=[\"accuracy\"])\n",
        "age_model.summary()"
      ]
    },
    {
      "cell_type": "code",
      "execution_count": null,
      "metadata": {
        "id": "VnCS1RKXTb4c"
      },
      "outputs": [],
      "source": [
        "history_age = age_model.fit(training_imgs_age, Y_train_age, batch_size=32, epochs=25, validation_data=(testing_imgs_age, Y_test_age), callbacks=[callback])\n",
        "age_model.save(\"age_model.h5\")\n",
        "\n",
        "test_loss, test_acc = age_model.evaluate(testing_imgs_age, Y_test_age, verbose=2)\n",
        "print(test_acc)"
      ]
    }
  ],
  "metadata": {
    "colab": {
      "name": "Age_Gender_Model.ipynb",
      "provenance": []
    },
    "interpreter": {
      "hash": "0a6591d158479e65d17ae7977d30098230fba6f2cec1c7803fd8d76f508c522a"
    },
    "kernelspec": {
      "display_name": "Python 3.10.2 64-bit",
      "language": "python",
      "name": "python3"
    },
    "language_info": {
      "codemirror_mode": {
        "name": "ipython",
        "version": 3
      },
      "file_extension": ".py",
      "mimetype": "text/x-python",
      "name": "python",
      "nbconvert_exporter": "python",
      "pygments_lexer": "ipython3",
      "version": "3.10.2"
    }
  },
  "nbformat": 4,
  "nbformat_minor": 0
}
